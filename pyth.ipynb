{
  "nbformat": 4,
  "nbformat_minor": 0,
  "metadata": {
    "colab": {
      "name": "pyth.ipynb",
      "provenance": [],
      "toc_visible": true,
      "authorship_tag": "ABX9TyOxATHs9bJ924NuFMqD0aj6",
      "include_colab_link": true
    },
    "kernelspec": {
      "name": "python3",
      "display_name": "Python 3"
    },
    "language_info": {
      "name": "python"
    }
  },
  "cells": [
    {
      "cell_type": "markdown",
      "metadata": {
        "id": "view-in-github",
        "colab_type": "text"
      },
      "source": [
        "<a href=\"https://colab.research.google.com/github/harsha20032020/personal/blob/master/pyth.ipynb\" target=\"_parent\"><img src=\"https://colab.research.google.com/assets/colab-badge.svg\" alt=\"Open In Colab\"/></a>"
      ]
    },
    {
      "cell_type": "markdown",
      "metadata": {
        "id": "pAhRKMV8y61a"
      },
      "source": [
        "\n",
        "\n",
        "```\n",
        "# This is formatted as code\n",
        "```\n",
        "\n",
        "# Chapter 4\n"
      ]
    },
    {
      "cell_type": "markdown",
      "metadata": {
        "id": "t_H1aRhxXErN"
      },
      "source": [
        "Integer operations python\n"
      ]
    },
    {
      "cell_type": "code",
      "metadata": {
        "id": "8BJyp43nXG2X"
      },
      "source": [
        "x=7\n",
        "y=11\n",
        "z=x+y # addition\n",
        "a=x/y  # division happens in float\n",
        "b=x-y # subtraction\n",
        "c=x*y #multiplication\n",
        "d=x**y # x^y\n",
        "e=x%y  # x mod y\n",
        "print(z,a,b,c,d,e)"
      ],
      "execution_count": null,
      "outputs": []
    },
    {
      "cell_type": "markdown",
      "metadata": {
        "id": "pwxo4XxXYb9c"
      },
      "source": [
        "length of a power"
      ]
    },
    {
      "cell_type": "code",
      "metadata": {
        "id": "FPv-L_syYjZ7"
      },
      "source": [
        "print(len(str(2**10000)))"
      ],
      "execution_count": null,
      "outputs": []
    },
    {
      "cell_type": "markdown",
      "metadata": {
        "id": "v4aIPI8UYx6j"
      },
      "source": [
        "math functions"
      ]
    },
    {
      "cell_type": "code",
      "metadata": {
        "id": "OlQIeJsMgfde"
      },
      "source": [
        "import math\n",
        "n=10\n",
        "k=2\n",
        "a=math.ceil(9.99)  # ceil rounds to larger int\n",
        "b=math.fabs(-9)    # modulus\n",
        "c=math.factorial(10)  # factorial\n",
        "d=math.floor(9.99)   # rounds to lesser int\n",
        "e=math.gcd(10,2)    # prints gcd\n",
        "print(math.pi)      # stored valueof pi\n",
        "print(math.sqrt(85)) # sq rt of 85"
      ],
      "execution_count": null,
      "outputs": []
    },
    {
      "cell_type": "markdown",
      "metadata": {
        "id": "QgcgFe-WwN6W"
      },
      "source": [
        "Random module"
      ]
    },
    {
      "cell_type": "code",
      "metadata": {
        "id": "TLuxYG9ZwQGW"
      },
      "source": [
        "import random\n",
        "print(random.random())\n",
        "print(random.choice([1,2,3,4]))"
      ],
      "execution_count": null,
      "outputs": []
    },
    {
      "cell_type": "markdown",
      "metadata": {
        "id": "hR7fNSjOwcHA"
      },
      "source": [
        "Strings"
      ]
    },
    {
      "cell_type": "code",
      "metadata": {
        "id": "vX1B4Rggwd0E"
      },
      "source": [
        "string=\"hello\"\n",
        "print(len(string)) # returns the length of the string\n",
        "# -ve indexes are also supported eg\n",
        "print(string[-1]) # = o  a substitute for writing len(string)-1\n",
        "print(string[-5]) # = h\n",
        "print(string[1:3]) # prints index 1 and 2\n",
        "string+=\" world\"   # concatenating strings\n",
        "print(8*string)    # print same string multiple times\n",
        "print(string.find('wor'))  # returns the index of occurence of substring start else -1\n",
        "print(string.replace('world','world!!')) # replaces world with world!!\n",
        "print(string)             # all the operations dont change the initial string"
      ],
      "execution_count": null,
      "outputs": []
    },
    {
      "cell_type": "markdown",
      "metadata": {
        "id": "ZzMG7NZ0ykgc"
      },
      "source": [
        "Parsing data\n"
      ]
    },
    {
      "cell_type": "code",
      "metadata": {
        "id": "Wxu0Qa0Tymh9"
      },
      "source": [
        "line='aaa,bbb,ccc,ddd'\n",
        "line.split(',')   # splits the line based on a delimiter\n",
        "print(line)   \n",
        "nums='2 3 4'\n",
        "x,y,z=nums.split(' ')  # splits int based on spaces\n",
        "print(x,z)\n",
        "arr=nums.split(' ')   # initialized an array based on splis\n",
        "print(arr[1])\n",
        "print(type(arr[1]))   # thats still a string"
      ],
      "execution_count": null,
      "outputs": []
    },
    {
      "cell_type": "markdown",
      "metadata": {
        "id": "6XKjpPg7417H"
      },
      "source": [
        "Lists"
      ]
    },
    {
      "cell_type": "code",
      "metadata": {
        "id": "kLNdw0EL43iT"
      },
      "source": [
        "list1=[123,234,'spam',1.56]\n",
        "print(len(list1)) # number of entries in the list\n",
        "# also all ops like -ve indexes and slicing using[1:4] etc can also be done\n",
        "list1+=[4,5,6] # appends atend of the list can also be done by list1.append['hello']\n",
        "print(list1) \n",
        "list1.pop(2)\n",
        "print(list1)\n",
        "list2=[1,5,3,4,2]\n",
        "list2.sort()   # sorts numbers and strings in increasing order\n",
        "print(list2)\n",
        "list2.reverse()  # reverses the lists\n",
        "print(list2)"
      ],
      "execution_count": null,
      "outputs": []
    },
    {
      "cell_type": "markdown",
      "metadata": {
        "id": "BEwGxV6D6ZiM"
      },
      "source": [
        "double lists / 2d arrays"
      ]
    },
    {
      "cell_type": "code",
      "metadata": {
        "id": "i3tsJdsS6dTs"
      },
      "source": [
        "M = [[1,2,3],[4,5,6],[7,8,9]]\n",
        "print(M)\n",
        "print(M[1])\n",
        "print(M[1][1])"
      ],
      "execution_count": null,
      "outputs": []
    },
    {
      "cell_type": "markdown",
      "metadata": {
        "id": "wGlwJx60GMu6"
      },
      "source": [
        "List comprehensions\n"
      ]
    },
    {
      "cell_type": "code",
      "metadata": {
        "id": "OjayMuH1GPPL"
      },
      "source": [
        "list = [x for x in range(10) if x%2==0] # consolidates multiple lines to a single\n",
        "print(list)\n",
        "M = [[1,2,3],[4,5,6],[7,8,9]]\n",
        "list1=[M[i][i] for i in range(3)]\n",
        "print(list1)"
      ],
      "execution_count": null,
      "outputs": []
    },
    {
      "cell_type": "markdown",
      "metadata": {
        "id": "T-uVdcKCG9WA"
      },
      "source": [
        "Dictionaries"
      ]
    },
    {
      "cell_type": "code",
      "metadata": {
        "id": "Krr-6EtYG--b"
      },
      "source": [
        "D = {'food': 'Spam', 'quantity': 4, 'color': 'pink'}\n",
        "print(D['food'])\n",
        "F={}    # new dictionary\n",
        "F['name']='harsh'\n",
        "F['job']='student'\n",
        "F['age']='18'\n",
        "print(F)"
      ],
      "execution_count": null,
      "outputs": []
    },
    {
      "cell_type": "markdown",
      "metadata": {
        "id": "UkuKprMNkjjz"
      },
      "source": [
        ""
      ]
    },
    {
      "cell_type": "code",
      "metadata": {
        "id": "rVVrM8soHdiP"
      },
      "source": [
        "# nested disctionaries\n",
        "rec = {'name': {'first': 'Bob', 'last': 'Smith'}, # nested dictionary\n",
        "      'job': ['dev', 'mgr'],                      # nested list ie behaves like an array\n",
        "      'age': 40.5}\n",
        "print(rec['name'],rec['name']['first'])\n",
        "print(rec['job'][1])\n",
        "rec['job'].append('prog')\n",
        "print(rec)"
      ],
      "execution_count": null,
      "outputs": []
    },
    {
      "cell_type": "markdown",
      "metadata": {
        "id": "tm_YyVJSIqRC"
      },
      "source": [
        "tuples"
      ]
    },
    {
      "cell_type": "code",
      "metadata": {
        "id": "ZAUigzjIJaku"
      },
      "source": [
        "T=(1,2,3,4)\n",
        "print(len(T)) # length of the tuple\n",
        "T+=(4,5,6)       # concat in tuple\n",
        "print(T[0])  \n",
        "print(T.index(4)) # prints first index of 4\n",
        "print(T)\n",
        "print(T.count(4)) # prints the number of counts of 4"
      ],
      "execution_count": null,
      "outputs": []
    },
    {
      "cell_type": "markdown",
      "metadata": {
        "id": "Y4Ric6A1kk0-"
      },
      "source": [
        "sets"
      ]
    },
    {
      "cell_type": "code",
      "metadata": {
        "id": "KRGgGaGPkl5Z"
      },
      "source": [
        "x=set(\"hello\")\n",
        "print(x)\n",
        "a={1,2,3,4}\n",
        "b={2,3,4,5}\n",
        "print(a&b)\n",
        "print(a|b)\n",
        "print(a-b)"
      ],
      "execution_count": null,
      "outputs": []
    },
    {
      "cell_type": "markdown",
      "metadata": {
        "id": "TRfOZA96luQE"
      },
      "source": [
        "decimals and fractions"
      ]
    },
    {
      "cell_type": "code",
      "metadata": {
        "id": "czWNWXaAlx5p"
      },
      "source": [
        "import decimal\n",
        "d=decimal.Decimal('2.112')\n",
        "print(d+1)"
      ],
      "execution_count": null,
      "outputs": []
    },
    {
      "cell_type": "code",
      "metadata": {
        "id": "QmdWBzOYswXU"
      },
      "source": [
        "from fractions import Fraction\n",
        "f = Fraction(2, 3)\n",
        "print(f + 1)\n",
        "print(f + Fraction(1, 2))"
      ],
      "execution_count": null,
      "outputs": []
    },
    {
      "cell_type": "markdown",
      "metadata": {
        "id": "4vKq7DIytgyj"
      },
      "source": [
        "# Chapter 5"
      ]
    },
    {
      "cell_type": "markdown",
      "metadata": {
        "id": "akmV5xwWtlwA"
      },
      "source": [
        "![image.png](data:image/png;base64,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)"
      ]
    }
  ]
}