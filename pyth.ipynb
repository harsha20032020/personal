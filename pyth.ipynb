{
  "nbformat": 4,
  "nbformat_minor": 0,
  "metadata": {
    "colab": {
      "name": "pyth.ipynb",
      "provenance": [],
      "toc_visible": true,
      "authorship_tag": "ABX9TyOVoRYJfCRHHMLb1RFZnnpH",
      "include_colab_link": true
    },
    "kernelspec": {
      "name": "python3",
      "display_name": "Python 3"
    },
    "language_info": {
      "name": "python"
    }
  },
  "cells": [
    {
      "cell_type": "markdown",
      "metadata": {
        "id": "view-in-github",
        "colab_type": "text"
      },
      "source": [
        "<a href=\"https://colab.research.google.com/github/harsha20032020/personal/blob/master/pyth.ipynb\" target=\"_parent\"><img src=\"https://colab.research.google.com/assets/colab-badge.svg\" alt=\"Open In Colab\"/></a>"
      ]
    },
    {
      "cell_type": "markdown",
      "metadata": {
        "id": "pAhRKMV8y61a"
      },
      "source": [
        "\n",
        "\n",
        "```\n",
        "# This is formatted as code\n",
        "```\n",
        "\n",
        "# Chapter 4\n"
      ]
    },
    {
      "cell_type": "markdown",
      "metadata": {
        "id": "t_H1aRhxXErN"
      },
      "source": [
        "Integer operations python\n"
      ]
    },
    {
      "cell_type": "code",
      "metadata": {
        "id": "8BJyp43nXG2X"
      },
      "source": [
        "x=7\n",
        "y=11\n",
        "z=x+y # addition\n",
        "a=x/y  # division happens in float\n",
        "b=x-y # subtraction\n",
        "c=x*y #multiplication\n",
        "d=x**y # x^y\n",
        "e=x%y  # x mod y\n",
        "print(z,a,b,c,d,e)"
      ],
      "execution_count": null,
      "outputs": []
    },
    {
      "cell_type": "markdown",
      "metadata": {
        "id": "pwxo4XxXYb9c"
      },
      "source": [
        "length of a power"
      ]
    },
    {
      "cell_type": "code",
      "metadata": {
        "id": "FPv-L_syYjZ7"
      },
      "source": [
        "print(len(str(2**10000)))"
      ],
      "execution_count": null,
      "outputs": []
    },
    {
      "cell_type": "markdown",
      "metadata": {
        "id": "v4aIPI8UYx6j"
      },
      "source": [
        "math functions"
      ]
    },
    {
      "cell_type": "code",
      "metadata": {
        "id": "OlQIeJsMgfde"
      },
      "source": [
        "import math\n",
        "n=10\n",
        "k=2\n",
        "a=math.ceil(9.99)  # ceil rounds to larger int\n",
        "b=math.fabs(-9)    # modulus\n",
        "c=math.factorial(10)  # factorial\n",
        "d=math.floor(9.99)   # rounds to lesser int\n",
        "e=math.gcd(10,2)    # prints gcd\n",
        "print(math.pi)      # stored valueof pi\n",
        "print(math.sqrt(85)) # sq rt of 85"
      ],
      "execution_count": null,
      "outputs": []
    },
    {
      "cell_type": "markdown",
      "metadata": {
        "id": "QgcgFe-WwN6W"
      },
      "source": [
        "Random module"
      ]
    },
    {
      "cell_type": "code",
      "metadata": {
        "id": "TLuxYG9ZwQGW"
      },
      "source": [
        "import random\n",
        "print(random.random())\n",
        "print(random.choice([1,2,3,4]))"
      ],
      "execution_count": null,
      "outputs": []
    },
    {
      "cell_type": "markdown",
      "metadata": {
        "id": "hR7fNSjOwcHA"
      },
      "source": [
        "Strings"
      ]
    },
    {
      "cell_type": "code",
      "metadata": {
        "id": "vX1B4Rggwd0E"
      },
      "source": [
        "string=\"hello\"\n",
        "print(len(string)) # returns the length of the string\n",
        "# -ve indexes are also supported eg\n",
        "print(string[-1]) # = o  a substitute for writing len(string)-1\n",
        "print(string[-5]) # = h\n",
        "print(string[1:3]) # prints index 1 and 2\n",
        "string+=\" world\"   # concatenating strings\n",
        "print(8*string)    # print same string multiple times\n",
        "print(string.find('wor'))  # returns the index of occurence of substring start else -1\n",
        "print(string.replace('world','world!!')) # replaces world with world!!\n",
        "print(string)             # all the operations dont change the initial string"
      ],
      "execution_count": null,
      "outputs": []
    },
    {
      "cell_type": "markdown",
      "metadata": {
        "id": "ZzMG7NZ0ykgc"
      },
      "source": [
        "Parsing data\n"
      ]
    },
    {
      "cell_type": "code",
      "metadata": {
        "id": "Wxu0Qa0Tymh9"
      },
      "source": [
        "line='aaa,bbb,ccc,ddd'\n",
        "line.split(',')   # splits the line based on a delimiter\n",
        "print(line)   \n",
        "nums='2 3 4'\n",
        "x,y,z=nums.split(' ')  # splits int based on spaces\n",
        "print(x,z)\n",
        "arr=nums.split(' ')   # initialized an array based on splis\n",
        "print(arr[1])\n",
        "print(type(arr[1]))   # thats still a string"
      ],
      "execution_count": null,
      "outputs": []
    },
    {
      "cell_type": "markdown",
      "metadata": {
        "id": "6XKjpPg7417H"
      },
      "source": [
        "Lists"
      ]
    },
    {
      "cell_type": "code",
      "metadata": {
        "id": "kLNdw0EL43iT"
      },
      "source": [
        "list1=[123,234,'spam',1.56]\n",
        "print(len(list1)) # number of entries in the list\n",
        "# also all ops like -ve indexes and slicing using[1:4] etc can also be done\n",
        "list1+=[4,5,6] # appends atend of the list can also be done by list1.append['hello']\n",
        "print(list1) \n",
        "list1.pop(2)\n",
        "print(list1)\n",
        "list2=[1,5,3,4,2]\n",
        "list2.sort()   # sorts numbers and strings in increasing order\n",
        "print(list2)\n",
        "list2.reverse()  # reverses the lists\n",
        "print(list2)"
      ],
      "execution_count": null,
      "outputs": []
    },
    {
      "cell_type": "markdown",
      "metadata": {
        "id": "BEwGxV6D6ZiM"
      },
      "source": [
        "double lists / 2d arrays"
      ]
    },
    {
      "cell_type": "code",
      "metadata": {
        "id": "i3tsJdsS6dTs"
      },
      "source": [
        "M = [[1,2,3],[4,5,6],[7,8,9]]\n",
        "print(M)\n",
        "print(M[1])\n",
        "print(M[1][1])"
      ],
      "execution_count": null,
      "outputs": []
    },
    {
      "cell_type": "markdown",
      "metadata": {
        "id": "wGlwJx60GMu6"
      },
      "source": [
        "List comprehensions\n"
      ]
    },
    {
      "cell_type": "code",
      "metadata": {
        "id": "OjayMuH1GPPL"
      },
      "source": [
        "list = [x for x in range(10) if x%2==0] # consolidates multiple lines to a single\n",
        "print(list)\n",
        "M = [[1,2,3],[4,5,6],[7,8,9]]\n",
        "list1=[M[i][i] for i in range(3)]\n",
        "print(list1)"
      ],
      "execution_count": null,
      "outputs": []
    },
    {
      "cell_type": "markdown",
      "metadata": {
        "id": "T-uVdcKCG9WA"
      },
      "source": [
        "Dictionaries"
      ]
    },
    {
      "cell_type": "code",
      "metadata": {
        "id": "Krr-6EtYG--b"
      },
      "source": [
        "D = {'food': 'Spam', 'quantity': 4, 'color': 'pink'}\n",
        "print(D['food'])\n",
        "F={}    # new dictionary\n",
        "F['name']='harsh'\n",
        "F['job']='student'\n",
        "F['age']='18'\n",
        "print(F)"
      ],
      "execution_count": null,
      "outputs": []
    },
    {
      "cell_type": "markdown",
      "metadata": {
        "id": "UkuKprMNkjjz"
      },
      "source": [
        ""
      ]
    },
    {
      "cell_type": "code",
      "metadata": {
        "id": "rVVrM8soHdiP"
      },
      "source": [
        "# nested disctionaries\n",
        "rec = {'name': {'first': 'Bob', 'last': 'Smith'}, # nested dictionary\n",
        "      'job': ['dev', 'mgr'],                      # nested list ie behaves like an array\n",
        "      'age': 40.5}\n",
        "print(rec['name'],rec['name']['first'])\n",
        "print(rec['job'][1])\n",
        "rec['job'].append('prog')\n",
        "print(rec)"
      ],
      "execution_count": null,
      "outputs": []
    },
    {
      "cell_type": "markdown",
      "metadata": {
        "id": "tm_YyVJSIqRC"
      },
      "source": [
        "tuples"
      ]
    },
    {
      "cell_type": "code",
      "metadata": {
        "id": "ZAUigzjIJaku"
      },
      "source": [
        "T=(1,2,3,4)\n",
        "print(len(T)) # length of the tuple\n",
        "T+=(4,5,6)       # concat in tuple\n",
        "print(T[0])  \n",
        "print(T.index(4)) # prints first index of 4\n",
        "print(T)\n",
        "print(T.count(4)) # prints the number of counts of 4"
      ],
      "execution_count": null,
      "outputs": []
    },
    {
      "cell_type": "markdown",
      "metadata": {
        "id": "Y4Ric6A1kk0-"
      },
      "source": [
        "sets"
      ]
    },
    {
      "cell_type": "code",
      "metadata": {
        "id": "KRGgGaGPkl5Z"
      },
      "source": [
        "x=set(\"hello\")\n",
        "print(x)\n",
        "a={1,2,3,4}\n",
        "b={2,3,4,5}\n",
        "print(a&b)\n",
        "print(a|b)\n",
        "print(a-b)"
      ],
      "execution_count": null,
      "outputs": []
    },
    {
      "cell_type": "markdown",
      "metadata": {
        "id": "TRfOZA96luQE"
      },
      "source": [
        "decimals and fractions"
      ]
    },
    {
      "cell_type": "code",
      "metadata": {
        "id": "czWNWXaAlx5p"
      },
      "source": [
        "import decimal\n",
        "d=decimal.Decimal('2.112')\n",
        "print(d+1)"
      ],
      "execution_count": null,
      "outputs": []
    },
    {
      "cell_type": "code",
      "metadata": {
        "id": "QmdWBzOYswXU"
      },
      "source": [
        "from fractions import Fraction\n",
        "f = Fraction(2, 3)\n",
        "print(f + 1)\n",
        "print(f + Fraction(1, 2))"
      ],
      "execution_count": null,
      "outputs": []
    },
    {
      "cell_type": "markdown",
      "metadata": {
        "id": "4vKq7DIytgyj"
      },
      "source": [
        "# Chapter 5"
      ]
    },
    {
      "cell_type": "markdown",
      "metadata": {
        "id": "akmV5xwWtlwA"
      },
      "source": [
        ""
      ]
    }
  ]
}